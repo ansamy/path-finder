{
 "cells": [
  {
   "cell_type": "code",
   "execution_count": 2,
   "metadata": {},
   "outputs": [],
   "source": [
    "import pandas\n",
    "import numpy as np\n",
    "from tqdm import tqdm_notebook\n",
    "import copy\n",
    "from matplotlib import pylab as plt\n",
    "%matplotlib inline"
   ]
  },
  {
   "cell_type": "code",
   "execution_count": 16,
   "metadata": {},
   "outputs": [],
   "source": [
    "start = (0,0)\n",
    "finish = (10,10)\n",
    "points = np.array([(3,6),(7,9),(0,6),(3,7),(8,5),(2,6),(5,5),(1,4),(1,9),(8,2),(5,2)])\n",
    "m = (start,finish,points)\n",
    "all_points = np.concatenate(([start],points,[finish]))"
   ]
  },
  {
   "cell_type": "code",
   "execution_count": 56,
   "metadata": {},
   "outputs": [],
   "source": [
    "#vibor 1 4- 17\n",
    "start = [1029, -1086,1,4]\n",
    "points = np.array([(1414, -1135),(947, -1404),(1272, -1403),(1598, -1372),(1937, -1442),(1126, -1721),(1484, -1649),(1298, -2003),(1624, -1804),(1814, -1781),(1672, -2133),(1936, -2014)])\n",
    "points = np.hstack([points,np.array([(1,5+i) for i in range(points.shape[0])]) ])\n",
    "finish = [2135, -1708,1,17]"
   ]
  },
  {
   "cell_type": "code",
   "execution_count": 69,
   "metadata": {},
   "outputs": [],
   "source": [
    "#vibor sk-28\n",
    "start = [771, 270,1,'sk']\n",
    "points = np.array([(609, 842),(930, 752),(1375, 664),(316, 1228),(717, 1348),(959, 1020),(1351, 1086),(1268, 1245),(1047, 1518)])\n",
    "points = np.hstack([points,np.array([(1,19+i) for i in range(points.shape[0])]) ])\n",
    "finish = [1145, 1943,1,'28']\n",
    "all_points = f1 = np.concatenate(([start],points,[finish]))"
   ]
  },
  {
   "cell_type": "code",
   "execution_count": 28,
   "metadata": {},
   "outputs": [],
   "source": [
    "#vibor 40-53\n",
    "\n",
    "start = [138, -120,1,\"40\"]\n",
    "all_points = np.array([[271, -902, 1, \"41\"], [544, -585, 1, \"42\"], [710, -402, 1, \"43\"], [1080, -263, 1, \"44\"], [505, -1290, 1, \"45\"], [654, -960, 1, \"46\"], [893, -706, 1, \"47\"], [1164, -593, 1, \"48\"], [890, -1243, 1, \"49\"], [1171, -940, 1, \"50\"], [1124, -1529, 1, \"51\"], [1368, -1214, 1, \"52\"]])\n",
    "finish = [1540, -1694,1,\"53\"]\n",
    "factor = 0.003401360544217687"
   ]
  },
  {
   "cell_type": "code",
   "execution_count": 79,
   "metadata": {},
   "outputs": [],
   "source": [
    "#vibor 3 32 - pf\n",
    "start = [1814, 1332, 1, \"32\"]\n",
    "points =  np.array([[1490, 1476, 1, \"33\"], [1612, 1739, 1, \"35\"], [1210, 1493, 1, \"35'\"], [946, 1637, 1, \"36\"], [1606, 2043, 1, \"36'\"], [1098, 1922, 1, \"34\"], [1268, 2034, 1, \"34'\"], [1290, 2284, 1, \"37\"], [868, 2030, 1, \"37'\"]])\n",
    "finish = [574, 1902, 1, \"pf\"]\n",
    "all_points = f1 = np.concatenate(([start],points,[finish]))"
   ]
  },
  {
   "cell_type": "code",
   "execution_count": 80,
   "metadata": {},
   "outputs": [],
   "source": [
    "def route_dist(route):\n",
    "    dist = start_distances[route[0]]\n",
    "    for p1,p2 in zip(route[:-1],route[1:]):\n",
    "        dist += distance_matrix[p1,p2]\n",
    "    return dist + finish_distances[route[-1]]\n",
    "\n",
    "def distance(x,y):\n",
    "    return np.sqrt((float(x[0])-float(y[0]))**2  + (float(x[1])-float(y[1]))**2)\n"
   ]
  },
  {
   "cell_type": "code",
   "execution_count": 5,
   "metadata": {},
   "outputs": [],
   "source": [
    "routes_to_find = 5\n",
    "top = []\n",
    "porog = 1e20\n",
    "def register_top(route,dist):\n",
    "    global top\n",
    "    global routes_to_find\n",
    "    global porog\n",
    "    top.append((points[route],dist))\n",
    "    top = sorted(top,key = lambda x: x[1])[:routes_to_find]\n",
    "    #print 'new top'\n",
    "    try:\n",
    "        last = top[routes_to_find-1]\n",
    "        #print 'porog changed'\n",
    "        porog = last[1]\n",
    "    except:\n",
    "        pass"
   ]
  },
  {
   "cell_type": "code",
   "execution_count": 23,
   "metadata": {},
   "outputs": [],
   "source": [
    "# b = None\n",
    "# def best_route(route):\n",
    "#     if len(route) == len(points):\n",
    "#         return (route,route_dist(route))\n",
    "#     best_ret = None\n",
    "#     for i in range(len(points)):\n",
    "#         if i in route:\n",
    "#             continue\n",
    "#         new_route = copy.copy(route)\n",
    "#         new_route.append(i)\n",
    "#         #print new_route\n",
    "#         best = best_route(new_route)\n",
    "#         if best_ret is None:\n",
    "#             best_ret = best\n",
    "#         else:\n",
    "#             if best_ret[1]>best[1]:\n",
    "#                 best_ret = best\n",
    "#     return best_ret\n",
    "    "
   ]
  },
  {
   "cell_type": "code",
   "execution_count": 58,
   "metadata": {},
   "outputs": [],
   "source": [
    "def best_route(route,dist):\n",
    "    current = route[-1]\n",
    "    if dist+finish_distances[current]>porog:\n",
    "        return\n",
    "    if len(route) == len(points):\n",
    "        register_top(route,dist+finish_distances[current])\n",
    "    for i in range(len(points)):\n",
    "        if i in route:\n",
    "            continue\n",
    "        new_route = copy.copy(route)\n",
    "        new_route.append(i)\n",
    "        new_dist = dist+distance_matrix[current,i]\n",
    "        if new_dist>porog:\n",
    "            continue\n",
    "        best = best_route(new_route,new_dist)"
   ]
  },
  {
   "cell_type": "code",
   "execution_count": 81,
   "metadata": {},
   "outputs": [
    {
     "data": {
      "application/vnd.jupyter.widget-view+json": {
       "model_id": "5b9be5a0bb9d430aa3d013bb9587508e",
       "version_major": 2,
       "version_minor": 0
      },
      "text/html": [
       "<p>Failed to display Jupyter Widget of type <code>HBox</code>.</p>\n",
       "<p>\n",
       "  If you're reading this message in the Jupyter Notebook or JupyterLab Notebook, it may mean\n",
       "  that the widgets JavaScript is still loading. If this message persists, it\n",
       "  likely means that the widgets JavaScript library is either not installed or\n",
       "  not enabled. See the <a href=\"https://ipywidgets.readthedocs.io/en/stable/user_install.html\">Jupyter\n",
       "  Widgets Documentation</a> for setup instructions.\n",
       "</p>\n",
       "<p>\n",
       "  If you're reading this message in another frontend (for example, a static\n",
       "  rendering on GitHub or <a href=\"https://nbviewer.jupyter.org/\">NBViewer</a>),\n",
       "  it may mean that your frontend doesn't currently support widgets.\n",
       "</p>\n"
      ],
      "text/plain": [
       "HBox(children=(IntProgress(value=0, max=9), HTML(value=u'')))"
      ]
     },
     "metadata": {},
     "output_type": "display_data"
    },
    {
     "name": "stdout",
     "output_type": "stream",
     "text": [
      "\n"
     ]
    }
   ],
   "source": [
    "distance_matrix = np.array([[distance(x,y) for x in points] for y in points])\n",
    "start_distances = np.array([distance(start,x) for x in points])\n",
    "finish_distances = np.array([distance(finish,x) for x in points])\n",
    "\n",
    "top = []\n",
    "porog=1e20\n",
    "for first in tqdm_notebook(range(len(points))):\n",
    "    b = best_route([first],start_distances[first])\n"
   ]
  },
  {
   "cell_type": "code",
   "execution_count": 82,
   "metadata": {},
   "outputs": [
    {
     "name": "stdout",
     "output_type": "stream",
     "text": [
      "['32' '33' '35' \"36'\" '37' \"34'\" '34' \"35'\" '36' \"37'\" 'pf'] 11.109 км (-0.000, 0.00%)\n",
      "['32' '33' \"35'\" '35' \"36'\" '37' \"34'\" '34' '36' \"37'\" 'pf'] 11.247 км (-0.139, 1.25%)\n",
      "['32' '33' '35' \"36'\" '37' \"34'\" \"35'\" '36' '34' \"37'\" 'pf'] 11.359 км (-0.250, 2.25%)\n",
      "['32' '33' \"35'\" '36' '35' \"36'\" '37' \"34'\" '34' \"37'\" 'pf'] 11.362 км (-0.253, 2.28%)\n",
      "['32' '33' \"35'\" '35' \"36'\" '37' \"34'\" '34' \"37'\" '36' 'pf'] 11.476 км (-0.367, 3.31%)\n",
      "['32' '33' '35' \"36'\" '37' \"34'\" '34' '36' \"35'\" \"37'\" 'pf'] 11.502 км (-0.393, 3.54%)\n",
      "['32' \"35'\" '33' '35' \"36'\" '37' \"34'\" '34' '36' \"37'\" 'pf'] 11.551 км (-0.442, 3.98%)\n",
      "['32' '35' '33' \"35'\" '36' '34' \"34'\" \"36'\" '37' \"37'\" 'pf'] 11.567 км (-0.459, 4.13%)\n",
      "['32' '33' '35' \"36'\" \"34'\" '37' '34' \"35'\" '36' \"37'\" 'pf'] 11.608 км (-0.500, 4.50%)\n",
      "['32' '33' '36' \"35'\" '35' \"36'\" '37' \"34'\" '34' \"37'\" 'pf'] 11.649 км (-0.540, 4.86%)\n"
     ]
    }
   ],
   "source": [
    "best = top[0][1]\n",
    "for t in top:\n",
    "    print np.concatenate([[start],t[0],[finish]])[:,3],\\\n",
    "        '%.3f км'%(t[1]*factor),\\\n",
    "        '(-%.3f,'%((t[1]-best)*factor),\\\n",
    "        '%.2f%%)' % ((t[1]-best)*100./best)"
   ]
  },
  {
   "cell_type": "code",
   "execution_count": null,
   "metadata": {},
   "outputs": [],
   "source": [
    "#1 - [ 6, 10, 12, 15, 16, 14, 13, 11,  7,  5,  8,  9]\n",
    "#2 - [19, 22, 23, 24, 20, 21, 25, 26, 27]\n",
    "#3 - [(]33 35 36' 37 34' 34 35' 36 37']\n",
    "#4 - [42 43 44 48 47 46 41 45 49 51]"
   ]
  },
  {
   "cell_type": "code",
   "execution_count": 32,
   "metadata": {},
   "outputs": [],
   "source": [
    "def plot(route):\n",
    "    f1 = np.concatenate(([start],points[route]))\n",
    "    f2 = np.concatenate((points[route],[finish]))\n",
    "    for p1,p2 in zip(f1,f2):\n",
    "        plt.plot([p1[0],p2[0]],[p1[1],p2[1]])"
   ]
  },
  {
   "cell_type": "code",
   "execution_count": 184,
   "metadata": {},
   "outputs": [
    {
     "data": {
      "text/plain": [
       "<matplotlib.collections.PathCollection at 0xbf6fcf8>"
      ]
     },
     "execution_count": 184,
     "metadata": {},
     "output_type": "execute_result"
    },
    {
     "data": {
      "image/png": "[encoded data removed]",
      "text/plain": [
       "<matplotlib.figure.Figure at 0xd7a92b0>"
      ]
     },
     "metadata": {},
     "output_type": "display_data"
    }
   ],
   "source": [
    "plt.figure(figsize=(6,6))\n",
    "plt.scatter(all_points[:,0],all_points[:,1])"
   ]
  },
  {
   "cell_type": "code",
   "execution_count": 34,
   "metadata": {},
   "outputs": [
    {
     "name": "stdout",
     "output_type": "stream",
     "text": [
      "([1, 5, 7, 10, 11, 9, 8, 6, 2, 0, 3, 4], 3977.3915758864823)\n",
      "([0, 2, 1, 5, 7, 10, 11, 9, 8, 6, 3, 4], 4036.8501752290699)\n"
     ]
    },
    {
     "data": {
      "image/png": "[encoded data removed]",
      "text/plain": [
       "<matplotlib.figure.Figure at 0xa00dda0>"
      ]
     },
     "metadata": {},
     "output_type": "display_data"
    }
   ],
   "source": [
    "plt.figure(figsize=(8,8))\n",
    "\n",
    "print top[0]\n",
    "print top[1]\n",
    "plot(top[0][0])\n",
    "#print np.array(best[0]) + 19"
   ]
  },
  {
   "cell_type": "code",
   "execution_count": null,
   "metadata": {},
   "outputs": [],
   "source": [
    "(33 35 36' 37 34' 34 35' 36 37')"
   ]
  },
  {
   "cell_type": "markdown",
   "metadata": {},
   "source": [
    "# Для КП, которые можно пропустить"
   ]
  },
  {
   "cell_type": "code",
   "execution_count": 8,
   "metadata": {},
   "outputs": [],
   "source": [
    "import itertools"
   ]
  },
  {
   "cell_type": "code",
   "execution_count": 41,
   "metadata": {},
   "outputs": [
    {
     "data": {
      "application/vnd.jupyter.widget-view+json": {
       "model_id": "c885ef8924eb4326ab99647622663b22",
       "version_major": 2,
       "version_minor": 0
      },
      "text/html": [
       "<p>Failed to display Jupyter Widget of type <code>HBox</code>.</p>\n",
       "<p>\n",
       "  If you're reading this message in the Jupyter Notebook or JupyterLab Notebook, it may mean\n",
       "  that the widgets JavaScript is still loading. If this message persists, it\n",
       "  likely means that the widgets JavaScript library is either not installed or\n",
       "  not enabled. See the <a href=\"https://ipywidgets.readthedocs.io/en/stable/user_install.html\">Jupyter\n",
       "  Widgets Documentation</a> for setup instructions.\n",
       "</p>\n",
       "<p>\n",
       "  If you're reading this message in another frontend (for example, a static\n",
       "  rendering on GitHub or <a href=\"https://nbviewer.jupyter.org/\">NBViewer</a>),\n",
       "  it may mean that your frontend doesn't currently support widgets.\n",
       "</p>\n"
      ],
      "text/plain": [
       "HBox(children=(IntProgress(value=0, max=55), HTML(value=u'')))"
      ]
     },
     "metadata": {},
     "output_type": "display_data"
    },
    {
     "name": "stdout",
     "output_type": "stream",
     "text": [
      "\n"
     ]
    }
   ],
   "source": [
    "all_best = []\n",
    "top = []\n",
    "porog=1e20\n",
    "routes_to_find = 10\n",
    "\n",
    "for combination in tqdm_notebook(itertools.combinations(range(1,12,1),9),total=55):\n",
    "    points_ind = np.concatenate(([0],combination))\n",
    "    points = all_points[points_ind]\n",
    "    distance_matrix = np.array([[distance(x,y) for x in points] for y in points])\n",
    "    start_distances = np.array([distance(start,x) for x in points])\n",
    "    finish_distances = np.array([distance(finish,x) for x in points])\n",
    "    for first in range(len(points)):\n",
    "        b = best_route([first],start_distances[first])   \n",
    "    \n",
    "#print top"
   ]
  },
  {
   "cell_type": "code",
   "execution_count": 46,
   "metadata": {},
   "outputs": [
    {
     "name": "stdout",
     "output_type": "stream",
     "text": [
      "['40' '42' '43' '44' '48' '47' '46' '41' '45' '49' '51' '53'] ['50', '52'] 14.585 км (-0.000, 0.00%)\n",
      "['40' '43' '42' '41' '45' '46' '47' '48' '50' '52' '51' '53'] ['44', '49'] 14.596 км (-0.011, 0.08%)\n",
      "['40' '43' '42' '41' '46' '47' '48' '50' '52' '49' '51' '53'] ['44', '45'] 14.671 км (-0.087, 0.59%)\n",
      "['40' '43' '42' '41' '45' '46' '47' '48' '50' '49' '51' '53'] ['44', '52'] 14.755 км (-0.171, 1.17%)\n",
      "['40' '43' '42' '41' '45' '49' '46' '47' '48' '50' '52' '53'] ['44', '51'] 14.794 км (-0.209, 1.43%)\n",
      "['40' '43' '42' '41' '46' '47' '48' '50' '49' '51' '52' '53'] ['44', '45'] 14.868 км (-0.283, 1.94%)\n",
      "['40' '43' '42' '41' '46' '47' '44' '48' '50' '52' '51' '53'] ['45', '49'] 14.936 км (-0.351, 2.41%)\n",
      "['40' '42' '41' '46' '47' '43' '44' '48' '50' '52' '51' '53'] ['45', '49'] 14.942 км (-0.357, 2.45%)\n",
      "['40' '42' '43' '47' '46' '41' '45' '49' '50' '52' '51' '53'] ['44', '48'] 14.942 км (-0.357, 2.45%)\n",
      "['40' '41' '46' '42' '43' '44' '48' '47' '50' '52' '51' '53'] ['45', '49'] 14.948 км (-0.363, 2.49%)\n"
     ]
    }
   ],
   "source": [
    "best = top[0][1]\n",
    "for t in top:\n",
    "    print np.concatenate([[start],t[0],[finish]])[:,3],\\\n",
    "        (list(set(all_points[:,3]) - set(t[0][:,3]))),\\\n",
    "        '%.3f км'%(t[1]*factor),\\\n",
    "        '(-%.3f,'%((t[1]-best)*factor),\\\n",
    "        '%.2f%%)' % ((t[1]-best)*100./best)"
   ]
  },
  {
   "cell_type": "code",
   "execution_count": 14,
   "metadata": {},
   "outputs": [
    {
     "name": "stdout",
     "output_type": "stream",
     "text": [
      "['41' '46' '42' '43' '44' '48' '47' '50' '52' '51'] 14.9478693608\n",
      "['41' '42' '43' '44' '48' '47' '46' '45' '49' '51'] 14.9789095237\n",
      "['41' '46' '47' '42' '43' '44' '48' '50' '52' '51'] 15.0071454921\n",
      "['41' '45' '46' '42' '43' '47' '48' '50' '52' '51'] 15.0518479546\n",
      "['41' '42' '43' '44' '48' '50' '47' '46' '49' '51'] 15.0992547968\n",
      "['41' '46' '42' '43' '44' '48' '47' '50' '49' '51'] 15.1072433171\n",
      "['41' '46' '42' '43' '47' '48' '50' '52' '49' '51'] 15.1271802326\n"
     ]
    }
   ],
   "source": [
    "for t in top:\n",
    "    print t[0][:,3],t[1]*factor"
   ]
  }
 ],
 "metadata": {
  "kernelspec": {
   "display_name": "Python 2",
   "language": "python",
   "name": "python2"
  },
  "language_info": {
   "codemirror_mode": {
    "name": "ipython",
    "version": 2
   },
   "file_extension": ".py",
   "mimetype": "text/x-python",
   "name": "python",
   "nbconvert_exporter": "python",
   "pygments_lexer": "ipython2",
   "version": "2.7.14"
  }
 },
 "nbformat": 4,
 "nbformat_minor": 2
}
