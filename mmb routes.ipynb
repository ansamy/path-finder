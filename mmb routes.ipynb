{
 "cells": [
  {
   "cell_type": "code",
   "execution_count": 99,
   "metadata": {},
   "outputs": [],
   "source": [
    "import pandas as pd\n",
    "import numpy as np\n",
    "from tqdm import tqdm_notebook\n",
    "import copy\n",
    "from matplotlib import pylab as plt\n",
    "import cv2\n",
    "%matplotlib inline\n"
   ]
  },
  {
   "cell_type": "code",
   "execution_count": 2,
   "metadata": {},
   "outputs": [],
   "source": [
    "start = (0,0)\n",
    "finish = (10,10)\n",
    "points = np.array([(3,6),(7,9),(0,6),(3,7),(8,5),(2,6),(5,5),(1,4),(1,9),(8,2),(5,2)])\n",
    "m = (start,finish,points)\n",
    "all_points = np.concatenate(([start],points,[finish]))"
   ]
  },
  {
   "cell_type": "code",
   "execution_count": 3,
   "metadata": {},
   "outputs": [],
   "source": [
    "#vibor 1 4- 17\n",
    "start = [1029, -1086,1,4]\n",
    "points = np.array([(1414, -1135),(947, -1404),(1272, -1403),(1598, -1372),(1937, -1442),(1126, -1721),(1484, -1649),(1298, -2003),(1624, -1804),(1814, -1781),(1672, -2133),(1936, -2014)])\n",
    "points = np.hstack([points,np.array([(1,5+i) for i in range(points.shape[0])]) ])\n",
    "finish = [2135, -1708,1,17]"
   ]
  },
  {
   "cell_type": "code",
   "execution_count": 69,
   "metadata": {},
   "outputs": [],
   "source": [
    "#vibor sk-28\n",
    "start = [771, 270,1,'sk']\n",
    "points = np.array([(609, 842),(930, 752),(1375, 664),(316, 1228),(717, 1348),(959, 1020),(1351, 1086),(1268, 1245),(1047, 1518)])\n",
    "points = np.hstack([points,np.array([(1,19+i) for i in range(points.shape[0])]) ])\n",
    "finish = [1145, 1943,1,'28']\n",
    "all_points = f1 = np.concatenate(([start],points,[finish]))"
   ]
  },
  {
   "cell_type": "code",
   "execution_count": 28,
   "metadata": {},
   "outputs": [],
   "source": [
    "#vibor 40-53\n",
    "\n",
    "start = [138, -120,1,\"40\"]\n",
    "all_points = np.array([[271, -902, 1, \"41\"], [544, -585, 1, \"42\"], [710, -402, 1, \"43\"], [1080, -263, 1, \"44\"], [505, -1290, 1, \"45\"], [654, -960, 1, \"46\"], [893, -706, 1, \"47\"], [1164, -593, 1, \"48\"], [890, -1243, 1, \"49\"], [1171, -940, 1, \"50\"], [1124, -1529, 1, \"51\"], [1368, -1214, 1, \"52\"]])\n",
    "finish = [1540, -1694,1,\"53\"]\n",
    "factor = 0.003401360544217687"
   ]
  },
  {
   "cell_type": "code",
   "execution_count": 79,
   "metadata": {},
   "outputs": [],
   "source": [
    "#vibor 3 32 - pf\n",
    "start = [1814, 1332, 1, \"32\"]\n",
    "points =  np.array([[1490, 1476, 1, \"33\"], [1612, 1739, 1, \"35\"], [1210, 1493, 1, \"35'\"], [946, 1637, 1, \"36\"], [1606, 2043, 1, \"36'\"], [1098, 1922, 1, \"34\"], [1268, 2034, 1, \"34'\"], [1290, 2284, 1, \"37\"], [868, 2030, 1, \"37'\"]])\n",
    "finish = [574, 1902, 1, \"pf\"]\n",
    "all_points = f1 = np.concatenate(([start],points,[finish]))"
   ]
  },
  {
   "cell_type": "code",
   "execution_count": 3,
   "metadata": {},
   "outputs": [],
   "source": [
    "def getArrayFromPoint(points,text_name):\n",
    "    return points[points.text_digits==text_name][['x','y','radius','text_digits']].iloc[0].values\n",
    "def getArrayFromPoints(points):\n",
    "    return points[['x','y','radius','text_digits']].values"
   ]
  },
  {
   "cell_type": "code",
   "execution_count": 4,
   "metadata": {},
   "outputs": [],
   "source": [
    "def view_route(route):\n",
    "    return points[route][:,3]"
   ]
  },
  {
   "cell_type": "code",
   "execution_count": 5,
   "metadata": {},
   "outputs": [],
   "source": [
    "def route_dist(route):\n",
    "    dist = start_distances[route[0]]\n",
    "    for p1,p2 in zip(route[:-1],route[1:]):\n",
    "        dist += distance_matrix[p1,p2]\n",
    "    return dist + finish_distances[route[-1]]\n",
    "\n",
    "def distance(x,y):\n",
    "    return np.sqrt((float(x[0])-float(y[0]))**2  + (float(x[1])-float(y[1]))**2)\n",
    "\n",
    "def register_top(route,dist):\n",
    "    global top\n",
    "    global routes_to_find\n",
    "    global porog\n",
    "    top.append((points[route],dist))\n",
    "    top = sorted(top,key = lambda x: x[1])[:routes_to_find]\n",
    "    #print 'new top'\n",
    "    try:\n",
    "        last = top[routes_to_find-1]\n",
    "        #print 'porog changed'\n",
    "        porog = last[1]\n",
    "    except:\n",
    "        pass\n",
    "    \n",
    "def best_route(route,dist):\n",
    "    current = route[-1]\n",
    "    if dist+porog_adjust[len(points)-len(route)] > porog:\n",
    "        return\n",
    "    if dist+finish_distances[current]>porog:\n",
    "        return\n",
    "    if len(route) == len(points):\n",
    "        register_top(route,dist+finish_distances[current])\n",
    "        return\n",
    "    points_walked = 0\n",
    "    if len(route)==4:\n",
    "        print (points[route][:,3], top[0][1] if len(top)> 0 else 2000000000 )\n",
    "    for i in sorted_by_distance_points[current]:\n",
    "        if i in route:\n",
    "            continue\n",
    "        new_route = copy.copy(route)\n",
    "        new_route.append(i)\n",
    "        new_dist = dist+distance_matrix[current,i]\n",
    "        if new_dist>porog:\n",
    "            continue\n",
    "        best = best_route(new_route,new_dist)\n",
    "        points_walked+=1\n",
    "        if points_walked == nearest_points:\n",
    "            break"
   ]
  },
  {
   "cell_type": "code",
   "execution_count": 6,
   "metadata": {},
   "outputs": [
    {
     "name": "stdout",
     "output_type": "stream",
     "text": [
      "1v.png      1v.png.dat  2v.png      2v.png.dat  3v.png      3v.png.dat\r\n"
     ]
    }
   ],
   "source": [
    "ls maps/2019o"
   ]
  },
  {
   "cell_type": "code",
   "execution_count": 7,
   "metadata": {},
   "outputs": [
    {
     "ename": "NameError",
     "evalue": "name 'points' is not defined",
     "output_type": "error",
     "traceback": [
      "\u001b[0;31m---------------------------------------------------------------------------\u001b[0m",
      "\u001b[0;31mNameError\u001b[0m                                 Traceback (most recent call last)",
      "\u001b[0;32m<ipython-input-7-a47444226446>\u001b[0m in \u001b[0;36m<module>\u001b[0;34m\u001b[0m\n\u001b[0;32m----> 1\u001b[0;31m \u001b[0mpoints\u001b[0m\u001b[0;34m\u001b[0m\u001b[0;34m\u001b[0m\u001b[0m\n\u001b[0m",
      "\u001b[0;31mNameError\u001b[0m: name 'points' is not defined"
     ]
    }
   ],
   "source": [
    "points"
   ]
  },
  {
   "cell_type": "code",
   "execution_count": 100,
   "metadata": {},
   "outputs": [
    {
     "ename": "NameError",
     "evalue": "name 'img' is not defined",
     "output_type": "error",
     "traceback": [
      "\u001b[0;31m---------------------------------------------------------------------------\u001b[0m",
      "\u001b[0;31mNameError\u001b[0m                                 Traceback (most recent call last)",
      "\u001b[0;32m<ipython-input-100-e72f0dda1af2>\u001b[0m in \u001b[0;36m<module>\u001b[0;34m\u001b[0m\n\u001b[1;32m      5\u001b[0m \u001b[0mmap_filename\u001b[0m \u001b[0;34m=\u001b[0m \u001b[0;34m'maps/2019o/1v.png'\u001b[0m\u001b[0;34m\u001b[0m\u001b[0;34m\u001b[0m\u001b[0m\n\u001b[1;32m      6\u001b[0m \u001b[0mcv2\u001b[0m\u001b[0;34m.\u001b[0m\u001b[0mimread\u001b[0m\u001b[0;34m(\u001b[0m\u001b[0mmap_filename\u001b[0m\u001b[0;34m)\u001b[0m\u001b[0;34m\u001b[0m\u001b[0;34m\u001b[0m\u001b[0m\n\u001b[0;32m----> 7\u001b[0;31m \u001b[0mimg\u001b[0m \u001b[0;34m=\u001b[0m \u001b[0mcv2\u001b[0m\u001b[0;34m.\u001b[0m\u001b[0mcvtColor\u001b[0m\u001b[0;34m(\u001b[0m\u001b[0mimg\u001b[0m\u001b[0;34m,\u001b[0m\u001b[0mcv2\u001b[0m\u001b[0;34m.\u001b[0m\u001b[0mCOLOR_BGR2RGB\u001b[0m\u001b[0;34m)\u001b[0m\u001b[0;34m\u001b[0m\u001b[0;34m\u001b[0m\u001b[0m\n\u001b[0m",
      "\u001b[0;31mNameError\u001b[0m: name 'img' is not defined"
     ]
    }
   ],
   "source": [
    "start_name = '6'\n",
    "finish_name = 'SK'\n",
    "kp_in = '6-22'\n",
    "dat_filename = 'maps/2019o/1v.png.dat'\n",
    "map_filename = 'maps/2019o/1v.png'\n",
    "cv2.imread(map_filename)\n",
    "img = cv2.cvtColor(img,cv2.COLOR_BGR2RGB)"
   ]
  },
  {
   "cell_type": "code",
   "execution_count": 53,
   "metadata": {},
   "outputs": [],
   "source": [
    "def kp_gen(kp_str):\n",
    "    kp_strs = kp_str.split(',')\n",
    "    for s in kp_strs:\n",
    "        if '-' in s:\n",
    "            v = s.split('-')\n",
    "            min_s = int(v[0])\n",
    "            max_s = int(v[1])\n",
    "            for i in range(min_s,max_s+1,1):\n",
    "                yield str(i)\n",
    "        else:\n",
    "            yield s"
   ]
  },
  {
   "cell_type": "code",
   "execution_count": 68,
   "metadata": {},
   "outputs": [],
   "source": [
    "#инициализация. Нужно также указать начало и конец выбора\n",
    "\n",
    "points = pd.read_csv(dat_filename,header=0)\n",
    "start = getArrayFromPoint(points,start_name)\n",
    "finish = getArrayFromPoint(points,finish_name)\n",
    "kps = list(kp_gen(kp_in))\n",
    "points = points[points.text_digits.isin(kps)]\n",
    "points = getArrayFromPoints(points)\n",
    "all_points = np.concatenate(([start],points,[finish]))\n"
   ]
  },
  {
   "cell_type": "code",
   "execution_count": 71,
   "metadata": {},
   "outputs": [],
   "source": [
    "a = np.array([6,5,8,7,11,10,12,15,16,13,14,9])\n",
    "a = a-5\n",
    "points[a]\n",
    "x = route_dist(a)"
   ]
  },
  {
   "cell_type": "code",
   "execution_count": 93,
   "metadata": {},
   "outputs": [],
   "source": [
    "### params\n",
    "routes_to_find = 10\n",
    "top = []\n",
    "porog = 1e20\n",
    "nearest_points = 6"
   ]
  },
  {
   "cell_type": "code",
   "execution_count": 91,
   "metadata": {},
   "outputs": [],
   "source": [
    "#prepare data\n",
    "start_distances = np.array([distance(start,x) for x in points])\n",
    "points = points[start_distances.argsort()]\n",
    "start_distances = np.array([distance(start,x) for x in points])\n",
    "distance_matrix = np.array([[distance(x,y) for x in points] for y in points])\n",
    "finish_distances = np.array([distance(finish,x) for x in points])\n",
    "sorted_by_distance_points = [distance_matrix[i].argsort() for i in range(len(points))]\n",
    "\n",
    "nearest_peregons = distance_matrix.flatten()\n",
    "nearest_peregons = nearest_peregons[nearest_peregons!=0]\n",
    "nearest_peregons.sort()\n",
    "nearest_peregons = nearest_peregons[::2]\n",
    "nearest_peregons = nearest_peregons.cumsum()\n",
    "\n",
    "porog_adjust = np.hstack([np.array([finish_distances.min()]), nearest_peregons+finish_distances.min()])"
   ]
  },
  {
   "cell_type": "code",
   "execution_count": 96,
   "metadata": {},
   "outputs": [
    {
     "name": "stdout",
     "output_type": "stream",
     "text": [
      "['6' '8' '9' '7'] 2000000000\n",
      "['6' '8' '9' '10'] 6655.646457306754\n",
      "['6' '8' '9' '14'] 6655.646457306754\n",
      "['6' '8' '9' '13'] 6655.646457306754\n",
      "['6' '8' '9' '11'] 6655.646457306754\n",
      "['6' '8' '9' '15'] 6655.646457306754\n",
      "['6' '8' '13' '12'] 6655.646457306754\n",
      "['6' '8' '13' '17'] 6655.646457306754\n",
      "['6' '8' '13' '9'] 6655.646457306754\n",
      "['6' '8' '13' '14'] 6655.646457306754\n",
      "['6' '8' '13' '16'] 6655.646457306754\n",
      "['6' '8' '13' '10'] 6655.646457306754\n",
      "['6' '8' '12' '13'] 6655.646457306754\n",
      "['6' '8' '12' '16'] 6655.646457306754\n",
      "['6' '8' '12' '17'] 6655.646457306754\n",
      "['6' '8' '12' '9'] 6655.646457306754\n",
      "['6' '8' '12' '19'] 6655.646457306754\n",
      "['6' '8' '7' '9'] 6655.646457306754\n",
      "['6' '8' '7' '10'] 6655.646457306754\n",
      "['6' '8' '7' '11'] 6655.646457306754\n",
      "['6' '8' '7' '14'] 6655.646457306754\n",
      "['6' '8' '10' '11'] 6655.646457306754\n",
      "['6' '8' '10' '14'] 6655.646457306754\n",
      "['6' '8' '10' '15'] 6655.646457306754\n",
      "['6' '8' '10' '9'] 6655.646457306754\n",
      "['6' '8' '10' '7'] 6655.646457306754\n",
      "['6' '8' '14' '15'] 6655.646457306754\n",
      "['6' '8' '14' '10'] 6655.646457306754\n",
      "['6' '8' '14' '9'] 6655.646457306754\n",
      "['6' '8' '14' '18'] 6655.646457306754\n",
      "['6' '8' '14' '13'] 6655.646457306754\n",
      "['6' '8' '14' '11'] 6655.646457306754\n",
      "['6' '7' '9' '8'] 6655.646457306754\n",
      "['6' '7' '9' '10'] 6655.646457306754\n",
      "['6' '7' '9' '14'] 6655.646457306754\n",
      "['6' '7' '9' '13'] 6655.646457306754\n",
      "['6' '7' '9' '11'] 6655.646457306754\n",
      "['6' '7' '9' '15'] 6655.646457306754\n",
      "['6' '7' '10' '11'] 6655.646457306754\n",
      "['6' '7' '10' '14'] 6655.646457306754\n",
      "['6' '7' '10' '15'] 6655.646457306754\n",
      "['6' '7' '10' '9'] 6655.646457306754\n",
      "['6' '7' '10' '13'] 6655.646457306754\n",
      "['6' '7' '10' '8'] 6655.646457306754\n",
      "['6' '7' '11' '10'] 6655.646457306754\n",
      "['6' '7' '11' '15'] 6655.646457306754\n",
      "['6' '7' '11' '14'] 6655.646457306754\n",
      "['6' '7' '11' '9'] 6655.646457306754\n",
      "['6' '7' '8' '9'] 6655.646457306754\n",
      "['6' '7' '8' '13'] 6655.646457306754\n",
      "['6' '7' '8' '12'] 6655.646457306754\n",
      "['6' '7' '14' '15'] 6655.646457306754\n",
      "['6' '7' '14' '10'] 6655.646457306754\n",
      "['6' '7' '14' '9'] 6655.646457306754\n",
      "['6' '7' '14' '18'] 6655.646457306754\n",
      "['6' '7' '14' '13'] 6655.646457306754\n",
      "['6' '7' '14' '11'] 6655.646457306754\n",
      "['6' '7' '15' '14'] 6655.646457306754\n",
      "['6' '7' '15' '10'] 6655.646457306754\n",
      "['6' '7' '15' '11'] 6655.646457306754\n",
      "['6' '9' '8' '13'] 6655.646457306754\n",
      "['6' '9' '8' '12'] 6655.646457306754\n",
      "['6' '9' '8' '7'] 6655.646457306754\n",
      "['6' '9' '8' '10'] 6655.646457306754\n",
      "['6' '9' '8' '14'] 6655.646457306754\n",
      "['6' '9' '7' '10'] 6655.646457306754\n",
      "['6' '9' '7' '11'] 6655.646457306754\n",
      "['6' '9' '7' '8'] 6655.646457306754\n",
      "['6' '9' '7' '14'] 6655.646457306754\n",
      "['6' '9' '7' '15'] 6655.646457306754\n",
      "['6' '9' '10' '11'] 6655.646457306754\n",
      "['6' '9' '10' '14'] 6655.646457306754\n",
      "['6' '9' '10' '15'] 6655.646457306754\n",
      "['6' '9' '10' '7'] 6655.646457306754\n",
      "['6' '9' '10' '13'] 6655.646457306754\n",
      "['6' '9' '10' '8'] 6655.646457306754\n",
      "['6' '9' '14' '15'] 6655.646457306754\n",
      "['6' '9' '14' '10'] 6655.646457306754\n",
      "['6' '9' '14' '18'] 6655.646457306754\n",
      "['6' '9' '14' '13'] 6655.646457306754\n",
      "['6' '9' '14' '11'] 6655.646457306754\n",
      "['6' '9' '14' '17'] 6655.646457306754\n",
      "['6' '9' '13' '12'] 6655.646457306754\n",
      "['6' '9' '13' '17'] 6655.646457306754\n",
      "['6' '9' '13' '8'] 6655.646457306754\n",
      "['6' '9' '13' '14'] 6655.646457306754\n",
      "['6' '9' '13' '16'] 6655.646457306754\n",
      "['6' '9' '11' '10'] 6655.646457306754\n",
      "['6' '9' '11' '15'] 6655.646457306754\n",
      "['6' '9' '11' '7'] 6655.646457306754\n",
      "['6' '9' '11' '14'] 6655.646457306754\n",
      "['6' '10' '11' '15'] 6655.646457306754\n",
      "['6' '10' '11' '7'] 6655.646457306754\n",
      "['6' '10' '11' '14'] 6655.646457306754\n",
      "['6' '10' '11' '9'] 6655.646457306754\n",
      "['6' '10' '14' '15'] 6655.646457306754\n",
      "['6' '10' '14' '9'] 6655.646457306754\n",
      "['6' '10' '14' '18'] 6655.646457306754\n",
      "['6' '10' '14' '13'] 6655.646457306754\n",
      "['6' '10' '14' '11'] 6655.646457306754\n",
      "['6' '10' '14' '17'] 6655.646457306754\n",
      "['6' '10' '15' '14'] 6655.646457306754\n",
      "['6' '10' '15' '11'] 6655.646457306754\n",
      "['6' '10' '15' '18'] 6655.646457306754\n",
      "['6' '10' '9' '8'] 6655.646457306754\n",
      "['6' '10' '9' '7'] 6655.646457306754\n",
      "['6' '10' '9' '14'] 6655.646457306754\n",
      "['6' '10' '9' '13'] 6655.646457306754\n",
      "['6' '10' '7' '9'] 6655.646457306754\n",
      "['6' '10' '7' '11'] 6655.646457306754\n",
      "['6' '13' '12' '16'] 6655.646457306754\n",
      "['6' '13' '12' '8'] 6655.646457306754\n",
      "['8' '9' '7' '10'] 6655.646457306754\n",
      "['8' '9' '7' '11'] 6655.646457306754\n",
      "['8' '9' '7' '6'] 6655.646457306754\n",
      "['8' '9' '10' '11'] 6655.646457306754\n",
      "['8' '9' '10' '14'] 6655.646457306754\n",
      "['8' '9' '10' '15'] 6655.646457306754\n",
      "['8' '9' '10' '7'] 6655.646457306754\n",
      "['8' '9' '14' '15'] 6655.646457306754\n",
      "['8' '9' '14' '10'] 6655.646457306754\n",
      "['8' '9' '14' '18'] 6655.646457306754\n",
      "['8' '9' '14' '13'] 6655.646457306754\n",
      "['8' '9' '14' '11'] 6655.646457306754\n",
      "['8' '9' '13' '12'] 6655.646457306754\n",
      "['8' '9' '13' '17'] 6655.646457306754\n",
      "['8' '13' '12' '16'] 6655.646457306754\n"
     ]
    }
   ],
   "source": [
    "#real work here\n",
    "top = []\n",
    "porog=1e20\n",
    "for first in (range(len(points))):\n",
    "    b = best_route([first],start_distances[first])"
   ]
  },
  {
   "cell_type": "code",
   "execution_count": 97,
   "metadata": {},
   "outputs": [
    {
     "data": {
      "text/plain": [
       "[(array(['6', '8', '9', '7', '11', '10', '14', '15', '18', '17', '13', '12',\n",
       "         '16', '19', '20', '21', '22'], dtype=object), 16.978689942109067),\n",
       " (array(['6', '8', '9', '7', '11', '10', '14', '15', '18', '21', '22', '20',\n",
       "         '17', '13', '12', '16', '19'], dtype=object), 16.990605454792213),\n",
       " (array(['6', '8', '9', '7', '10', '11', '15', '14', '18', '17', '13', '12',\n",
       "         '16', '19', '20', '21', '22'], dtype=object), 17.05394737732895),\n",
       " (array(['6', '8', '9', '7', '10', '11', '15', '14', '18', '21', '22', '20',\n",
       "         '17', '13', '12', '16', '19'], dtype=object), 17.065862890012095),\n",
       " (array(['6', '8', '9', '7', '11', '10', '15', '14', '18', '17', '13', '12',\n",
       "         '16', '19', '20', '21', '22'], dtype=object), 17.077018076077227),\n",
       " (array(['6', '8', '9', '7', '11', '10', '15', '14', '18', '21', '22', '20',\n",
       "         '17', '13', '12', '16', '19'], dtype=object), 17.088933588760376),\n",
       " (array(['6', '8', '9', '7', '10', '11', '15', '14', '13', '12', '16', '17',\n",
       "         '18', '21', '22', '20', '19'], dtype=object), 17.268010209029615),\n",
       " (array(['6', '8', '9', '7', '11', '10', '15', '14', '13', '12', '16', '17',\n",
       "         '18', '21', '22', '20', '19'], dtype=object), 17.291080907777896),\n",
       " (array(['6', '8', '9', '7', '10', '11', '14', '15', '18', '17', '13', '12',\n",
       "         '16', '19', '20', '21', '22'], dtype=object), 17.3039429497345),\n",
       " (array(['6', '8', '9', '7', '10', '11', '14', '15', '18', '21', '22', '20',\n",
       "         '17', '13', '12', '16', '19'], dtype=object), 17.315858462417644)]"
      ]
     },
     "execution_count": 97,
     "metadata": {},
     "output_type": "execute_result"
    }
   ],
   "source": [
    "[(x[0][:,3],x[1]*factor) for x in top]"
   ]
  },
  {
   "cell_type": "code",
   "execution_count": 77,
   "metadata": {},
   "outputs": [],
   "source": [
    "factor = 0.003401360544217687 * 300/400"
   ]
  },
  {
   "cell_type": "code",
   "execution_count": 99,
   "metadata": {},
   "outputs": [
    {
     "data": {
      "text/plain": [
       "array([1, 2, 3])"
      ]
     },
     "execution_count": 99,
     "metadata": {},
     "output_type": "execute_result"
    }
   ],
   "source": [
    "np.array([1,2,3])"
   ]
  },
  {
   "cell_type": "code",
   "execution_count": 94,
   "metadata": {},
   "outputs": [
    {
     "ename": "IndexError",
     "evalue": "list index out of range",
     "output_type": "error",
     "traceback": [
      "\u001b[0;31m---------------------------------------------------------------------------\u001b[0m",
      "\u001b[0;31mIndexError\u001b[0m                                Traceback (most recent call last)",
      "\u001b[0;32m<ipython-input-94-a89bed5630b6>\u001b[0m in \u001b[0;36m<module>\u001b[0;34m\u001b[0m\n\u001b[0;32m----> 1\u001b[0;31m \u001b[0mbest\u001b[0m \u001b[0;34m=\u001b[0m \u001b[0mtop\u001b[0m\u001b[0;34m[\u001b[0m\u001b[0;36m0\u001b[0m\u001b[0;34m]\u001b[0m\u001b[0;34m[\u001b[0m\u001b[0;36m1\u001b[0m\u001b[0;34m]\u001b[0m\u001b[0;34m\u001b[0m\u001b[0;34m\u001b[0m\u001b[0m\n\u001b[0m\u001b[1;32m      2\u001b[0m \u001b[0;32mfor\u001b[0m \u001b[0mt\u001b[0m \u001b[0;32min\u001b[0m \u001b[0mtop\u001b[0m\u001b[0;34m:\u001b[0m\u001b[0;34m\u001b[0m\u001b[0;34m\u001b[0m\u001b[0m\n\u001b[1;32m      3\u001b[0m     print (np.concatenate([[start],t[0].astype(int),[finish]])[:,3],\\\n\u001b[1;32m      4\u001b[0m         \u001b[0;34m'%.3f км'\u001b[0m\u001b[0;34m%\u001b[0m\u001b[0;34m(\u001b[0m\u001b[0mt\u001b[0m\u001b[0;34m[\u001b[0m\u001b[0;36m1\u001b[0m\u001b[0;34m]\u001b[0m\u001b[0;34m*\u001b[0m\u001b[0mfactor\u001b[0m\u001b[0;34m)\u001b[0m\u001b[0;34m,\u001b[0m\u001b[0;31m\\\u001b[0m\u001b[0;34m\u001b[0m\u001b[0;34m\u001b[0m\u001b[0m\n\u001b[1;32m      5\u001b[0m         \u001b[0;34m'(-%.3f,'\u001b[0m\u001b[0;34m%\u001b[0m\u001b[0;34m(\u001b[0m\u001b[0;34m(\u001b[0m\u001b[0mt\u001b[0m\u001b[0;34m[\u001b[0m\u001b[0;36m1\u001b[0m\u001b[0;34m]\u001b[0m\u001b[0;34m-\u001b[0m\u001b[0mbest\u001b[0m\u001b[0;34m)\u001b[0m\u001b[0;34m*\u001b[0m\u001b[0mfactor\u001b[0m\u001b[0;34m)\u001b[0m\u001b[0;34m,\u001b[0m\u001b[0;31m\\\u001b[0m\u001b[0;34m\u001b[0m\u001b[0;34m\u001b[0m\u001b[0m\n",
      "\u001b[0;31mIndexError\u001b[0m: list index out of range"
     ]
    }
   ],
   "source": [
    "best = top[0][1]\n",
    "for t in top:\n",
    "    print (np.concatenate([[start],t[0].astype(int),[finish]])[:,3],\\\n",
    "        '%.3f км'%(t[1]*factor),\\\n",
    "        '(-%.3f,'%((t[1]-best)*factor),\\\n",
    "        '%.2f%%)' % ((t[1]-best)*100./best))"
   ]
  },
  {
   "cell_type": "code",
   "execution_count": 118,
   "metadata": {},
   "outputs": [],
   "source": [
    "def get_point_by_name(name):\n",
    "    name = int(name)\n",
    "    return all_points[all_points[:,3]==name][0]"
   ]
  },
  {
   "cell_type": "code",
   "execution_count": 123,
   "metadata": {},
   "outputs": [],
   "source": [
    "def calculate_route(route_str):\n",
    "    route = route_str.split('-')\n",
    "    res = 0\n",
    "    for x,y in zip(route[:-1],route[1:]):\n",
    "        x = get_point_by_name(x)\n",
    "        y = get_point_by_name(y)\n",
    "        res += distance(x,y)\n",
    "    return res*factor"
   ]
  },
  {
   "cell_type": "code",
   "execution_count": 124,
   "metadata": {},
   "outputs": [
    {
     "data": {
      "text/plain": [
       "0.8245059647962375"
      ]
     },
     "execution_count": 124,
     "metadata": {},
     "output_type": "execute_result"
    }
   ],
   "source": [
    "calculate_route('6-8-9') - calculate_route('6-9')"
   ]
  },
  {
   "cell_type": "code",
   "execution_count": 125,
   "metadata": {},
   "outputs": [
    {
     "data": {
      "text/plain": [
       "0.9227184033350069"
      ]
     },
     "execution_count": 125,
     "metadata": {},
     "output_type": "execute_result"
    }
   ],
   "source": [
    "calculate_route('12-8-7') - calculate_route('12-7')"
   ]
  },
  {
   "cell_type": "code",
   "execution_count": null,
   "metadata": {},
   "outputs": [],
   "source": [
    "calulate_route('')"
   ]
  },
  {
   "cell_type": "code",
   "execution_count": 100,
   "metadata": {},
   "outputs": [
    {
     "data": {
      "text/plain": [
       "array([[   0.        ,  296.04222672,  259.62472918,  246.67590073,\n",
       "         300.1666204 ,  525.40460599,  429.21439864,  493.32545039,\n",
       "         539.10295863,  548.94261995,  746.        ,  647.78082713,\n",
       "         714.42564344,  783.48516259,  928.06734669,  874.76225342,\n",
       "        1054.43823906, 1130.37029331, 1156.86645729],\n",
       "       [ 296.04222672,    0.        ,  555.15223137,  342.26597844,\n",
       "         539.79347903,  273.65854637,  308.10387859,  491.4804167 ,\n",
       "         833.75116192,  777.49147905,  568.85586927,  736.29953144,\n",
       "         866.92617909,  785.75441456,  829.9843372 , 1135.19866103,\n",
       "        1228.59960931, 1106.72309093, 1224.84815385],\n",
       "       [ 259.62472918,  555.15223137,    0.        ,  407.94607487,\n",
       "         261.81100053,  777.51205778,  648.08178496,  640.2725982 ,\n",
       "         289.98103386,  445.9024557 ,  962.79021599,  696.71873809,\n",
       "         688.08793043,  888.36478994, 1092.02930364,  687.72814396,\n",
       "         974.3536319 , 1231.82222743, 1179.96144005],\n",
       "       [ 246.67590073,  342.26597844,  407.94607487,    0.        ,\n",
       "         245.07345838,  437.22419878,  254.90782648,  248.86341636,\n",
       "         613.87050752,  450.24993059,  559.2360861 ,  419.35784242,\n",
       "         527.18592546,  537.01769058,  694.05763449,  822.34421017,\n",
       "         887.1758563 ,  883.69791218,  926.45183361],\n",
       "       [ 300.1666204 ,  539.79347903,  261.81100053,  245.07345838,\n",
       "           0.        ,  680.62471304,  496.81485485,  417.96889836,\n",
       "         381.2033578 ,  249.09837414,  785.83967831,  435.13676011,\n",
       "         440.10907739,  634.66920518,  861.77549281,  595.48383689,\n",
       "         760.59187479,  974.0764857 ,  921.65503308],\n",
       "       [ 525.40460599,  273.65854637,  777.51205778,  437.22419878,\n",
       "         680.62471304,    0.        ,  220.05681085,  434.30864601,\n",
       "        1031.20996892,  878.63758171,  322.44379355,  707.95621334,\n",
       "         882.84200172,  671.1609345 ,  624.1578326 , 1254.89641007,\n",
       "        1241.43868153,  943.72718515, 1134.73961771],\n",
       "       [ 429.21439864,  308.10387859,  648.08178496,  254.90782648,\n",
       "         496.81485485,  220.05681085,    0.        ,  218.90865675,\n",
       "         868.72607881,  670.75852585,  317.67436157,  491.4804167 ,\n",
       "         662.8672567 ,  488.28884894,  528.44110362, 1047.92556988,\n",
       "        1022.24507825,  799.44230561,  942.81546445],\n",
       "       [ 493.32545039,  491.4804167 ,  640.2725982 ,  248.86341636,\n",
       "         417.96889836,  434.30864601,  218.90865675,    0.        ,\n",
       "         796.67935834,  518.41682071,  392.74673773,  273.66037346,\n",
       "         454.81644649,  301.0265769 ,  451.75767841,  887.18261931,\n",
       "         808.5406607 ,  641.37742399,  734.4725999 ],\n",
       "       [ 539.10295863,  833.75116192,  289.98103386,  613.87050752,\n",
       "         381.2033578 , 1031.20996892,  868.72607881,  796.67935834,\n",
       "           0.        ,  385.97668323, 1166.17151397,  750.58643739,\n",
       "         661.06883151,  977.93506942, 1231.2046946 ,  454.48542331,\n",
       "         850.39755409, 1295.69633788, 1159.85688772],\n",
       "       [ 548.94261995,  777.49147905,  445.9024557 ,  450.24993059,\n",
       "         249.09837414,  878.63758171,  670.75852585,  518.41682071,\n",
       "         385.97668323,    0.        ,  911.1629931 ,  384.6062922 ,\n",
       "         275.48139683,  620.76162897,  900.30494834,  377.18032823,\n",
       "         529.00850655,  918.49060964,  776.67625173],\n",
       "       [ 746.        ,  568.85586927,  962.79021599,  559.2360861 ,\n",
       "         785.83967831,  322.44379355,  317.67436157,  392.74673773,\n",
       "        1166.17151397,  911.1629931 ,    0.        ,  614.62834298,\n",
       "         815.08281788,  475.10104188,  321.00623047, 1278.1412285 ,\n",
       "        1138.31630051,  665.46600214,  922.08459482],\n",
       "       [ 647.78082713,  736.29953144,  696.71873809,  419.35784242,\n",
       "         435.13676011,  707.95621334,  491.4804167 ,  273.66037346,\n",
       "         750.58643739,  384.6062922 ,  614.62834298,    0.        ,\n",
       "         201.43485299,  236.83960817,  527.15936869,  698.79968517,\n",
       "         537.47930193,  547.21202472,  509.31326313],\n",
       "       [ 714.42564344,  866.92617909,  688.08793043,  527.18592546,\n",
       "         440.10907739,  882.84200172,  662.8672567 ,  454.81644649,\n",
       "         661.06883151,  275.48139683,  815.08281788,  201.43485299,\n",
       "           0.        ,  414.74449966,  714.84333948,  514.4171459 ,\n",
       "         363.47764718,  663.15684419,  502.48184047],\n",
       "       [ 783.48516259,  785.75441456,  888.36478994,  537.01769058,\n",
       "         634.66920518,  671.1609345 ,  488.28884894,  301.0265769 ,\n",
       "         977.93506942,  620.76162897,  475.10104188,  236.83960817,\n",
       "         414.74449966,    0.        ,  300.94517773,  927.24214745,\n",
       "         681.10571867,  347.97988448,  464.30270299],\n",
       "       [ 928.06734669,  829.9843372 , 1092.02930364,  694.05763449,\n",
       "         861.77549281,  624.1578326 ,  528.44110362,  451.75767841,\n",
       "        1231.2046946 ,  900.30494834,  321.00623047,  527.15936869,\n",
       "         714.84333948,  300.94517773,    0.        , 1224.9024451 ,\n",
       "         967.7380844 ,  351.41143977,  655.32053226],\n",
       "       [ 874.76225342, 1135.19866103,  687.72814396,  822.34421017,\n",
       "         595.48383689, 1254.89641007, 1047.92556988,  887.18261931,\n",
       "         454.48542331,  377.18032823, 1278.1412285 ,  698.79968517,\n",
       "         514.4171459 ,  927.24214745, 1224.9024451 ,    0.        ,\n",
       "         491.04073151, 1160.9099879 ,  912.01589898],\n",
       "       [1054.43823906, 1228.59960931,  974.3536319 ,  887.1758563 ,\n",
       "         760.59187479, 1241.43868153, 1022.24507825,  808.5406607 ,\n",
       "         850.39755409,  529.00850655, 1138.31630051,  537.47930193,\n",
       "         363.47764718,  681.10571867,  967.7380844 ,  491.04073151,\n",
       "           0.        ,  784.23529632,  462.15581788],\n",
       "       [1130.37029331, 1106.72309093, 1231.82222743,  883.69791218,\n",
       "         974.0764857 ,  943.72718515,  799.44230561,  641.37742399,\n",
       "        1295.69633788,  918.49060964,  665.46600214,  547.21202472,\n",
       "         663.15684419,  347.97988448,  351.41143977, 1160.9099879 ,\n",
       "         784.23529632,    0.        ,  365.57488973],\n",
       "       [1156.86645729, 1224.84815385, 1179.96144005,  926.45183361,\n",
       "         921.65503308, 1134.73961771,  942.81546445,  734.4725999 ,\n",
       "        1159.85688772,  776.67625173,  922.08459482,  509.31326313,\n",
       "         502.48184047,  464.30270299,  655.32053226,  912.01589898,\n",
       "         462.15581788,  365.57488973,    0.        ]])"
      ]
     },
     "execution_count": 100,
     "metadata": {},
     "output_type": "execute_result"
    }
   ],
   "source": [
    "distance_matrix"
   ]
  },
  {
   "cell_type": "code",
   "execution_count": null,
   "metadata": {},
   "outputs": [],
   "source": [
    "#1 - [ 6, 10, 12, 15, 16, 14, 13, 11,  7,  5,  8,  9]\n",
    "#2 - [19, 22, 23, 24, 20, 21, 25, 26, 27]\n",
    "#3 - [(]33 35 36' 37 34' 34 35' 36 37']\n",
    "#4 - [42 43 44 48 47 46 41 45 49 51]"
   ]
  },
  {
   "cell_type": "code",
   "execution_count": 32,
   "metadata": {},
   "outputs": [],
   "source": [
    "def plot(route):\n",
    "    f1 = np.concatenate(([start],points[route]))\n",
    "    f2 = np.concatenate((points[route],[finish]))\n",
    "    for p1,p2 in zip(f1,f2):\n",
    "        plt.plot([p1[0],p2[0]],[p1[1],p2[1]])"
   ]
  },
  {
   "cell_type": "code",
   "execution_count": 184,
   "metadata": {},
   "outputs": [
    {
     "data": {
      "text/plain": [
       "<matplotlib.collections.PathCollection at 0xbf6fcf8>"
      ]
     },
     "execution_count": 184,
     "metadata": {},
     "output_type": "execute_result"
    },
    {
     "data": {
      "image/png": "[encoded data removed]",
      "text/plain": [
       "<matplotlib.figure.Figure at 0xd7a92b0>"
      ]
     },
     "metadata": {},
     "output_type": "display_data"
    }
   ],
   "source": [
    "plt.figure(figsize=(6,6))\n",
    "plt.scatter(all_points[:,0],all_points[:,1])"
   ]
  },
  {
   "cell_type": "code",
   "execution_count": 34,
   "metadata": {},
   "outputs": [
    {
     "name": "stdout",
     "output_type": "stream",
     "text": [
      "([1, 5, 7, 10, 11, 9, 8, 6, 2, 0, 3, 4], 3977.3915758864823)\n",
      "([0, 2, 1, 5, 7, 10, 11, 9, 8, 6, 3, 4], 4036.8501752290699)\n"
     ]
    },
    {
     "data": {
      "image/png": "[encoded data removed]",
      "text/plain": [
       "<matplotlib.figure.Figure at 0xa00dda0>"
      ]
     },
     "metadata": {},
     "output_type": "display_data"
    }
   ],
   "source": [
    "plt.figure(figsize=(8,8))\n",
    "\n",
    "print top[0]\n",
    "print top[1]\n",
    "plot(top[0][0])\n",
    "#print np.array(best[0]) + 19"
   ]
  },
  {
   "cell_type": "code",
   "execution_count": null,
   "metadata": {},
   "outputs": [],
   "source": [
    "(33 35 36' 37 34' 34 35' 36 37')"
   ]
  },
  {
   "cell_type": "markdown",
   "metadata": {},
   "source": [
    "# Для КП, которые можно пропустить"
   ]
  },
  {
   "cell_type": "code",
   "execution_count": 8,
   "metadata": {},
   "outputs": [],
   "source": [
    "import itertools"
   ]
  },
  {
   "cell_type": "code",
   "execution_count": 41,
   "metadata": {},
   "outputs": [
    {
     "data": {
      "application/vnd.jupyter.widget-view+json": {
       "model_id": "c885ef8924eb4326ab99647622663b22",
       "version_major": 2,
       "version_minor": 0
      },
      "text/html": [
       "<p>Failed to display Jupyter Widget of type <code>HBox</code>.</p>\n",
       "<p>\n",
       "  If you're reading this message in the Jupyter Notebook or JupyterLab Notebook, it may mean\n",
       "  that the widgets JavaScript is still loading. If this message persists, it\n",
       "  likely means that the widgets JavaScript library is either not installed or\n",
       "  not enabled. See the <a href=\"https://ipywidgets.readthedocs.io/en/stable/user_install.html\">Jupyter\n",
       "  Widgets Documentation</a> for setup instructions.\n",
       "</p>\n",
       "<p>\n",
       "  If you're reading this message in another frontend (for example, a static\n",
       "  rendering on GitHub or <a href=\"https://nbviewer.jupyter.org/\">NBViewer</a>),\n",
       "  it may mean that your frontend doesn't currently support widgets.\n",
       "</p>\n"
      ],
      "text/plain": [
       "HBox(children=(IntProgress(value=0, max=55), HTML(value=u'')))"
      ]
     },
     "metadata": {},
     "output_type": "display_data"
    },
    {
     "name": "stdout",
     "output_type": "stream",
     "text": [
      "\n"
     ]
    }
   ],
   "source": [
    "all_best = []\n",
    "top = []\n",
    "porog=1e20\n",
    "routes_to_find = 10\n",
    "\n",
    "for combination in tqdm_notebook(itertools.combinations(range(1,12,1),9),total=55):\n",
    "    points_ind = np.concatenate(([0],combination))\n",
    "    points = all_points[points_ind]\n",
    "    distance_matrix = np.array([[distance(x,y) for x in points] for y in points])\n",
    "    start_distances = np.array([distance(start,x) for x in points])\n",
    "    finish_distances = np.array([distance(finish,x) for x in points])\n",
    "    for first in range(len(points)):\n",
    "        b = best_route([first],start_distances[first])   \n",
    "    \n",
    "#print top"
   ]
  },
  {
   "cell_type": "code",
   "execution_count": 46,
   "metadata": {},
   "outputs": [
    {
     "name": "stdout",
     "output_type": "stream",
     "text": [
      "['40' '42' '43' '44' '48' '47' '46' '41' '45' '49' '51' '53'] ['50', '52'] 14.585 км (-0.000, 0.00%)\n",
      "['40' '43' '42' '41' '45' '46' '47' '48' '50' '52' '51' '53'] ['44', '49'] 14.596 км (-0.011, 0.08%)\n",
      "['40' '43' '42' '41' '46' '47' '48' '50' '52' '49' '51' '53'] ['44', '45'] 14.671 км (-0.087, 0.59%)\n",
      "['40' '43' '42' '41' '45' '46' '47' '48' '50' '49' '51' '53'] ['44', '52'] 14.755 км (-0.171, 1.17%)\n",
      "['40' '43' '42' '41' '45' '49' '46' '47' '48' '50' '52' '53'] ['44', '51'] 14.794 км (-0.209, 1.43%)\n",
      "['40' '43' '42' '41' '46' '47' '48' '50' '49' '51' '52' '53'] ['44', '45'] 14.868 км (-0.283, 1.94%)\n",
      "['40' '43' '42' '41' '46' '47' '44' '48' '50' '52' '51' '53'] ['45', '49'] 14.936 км (-0.351, 2.41%)\n",
      "['40' '42' '41' '46' '47' '43' '44' '48' '50' '52' '51' '53'] ['45', '49'] 14.942 км (-0.357, 2.45%)\n",
      "['40' '42' '43' '47' '46' '41' '45' '49' '50' '52' '51' '53'] ['44', '48'] 14.942 км (-0.357, 2.45%)\n",
      "['40' '41' '46' '42' '43' '44' '48' '47' '50' '52' '51' '53'] ['45', '49'] 14.948 км (-0.363, 2.49%)\n"
     ]
    }
   ],
   "source": [
    "best = top[0][1]\n",
    "for t in top:\n",
    "    print np.concatenate([[start],t[0],[finish]])[:,3],\\\n",
    "        (list(set(all_points[:,3]) - set(t[0][:,3]))),\\\n",
    "        '%.3f км'%(t[1]*factor),\\\n",
    "        '(-%.3f,'%((t[1]-best)*factor),\\\n",
    "        '%.2f%%)' % ((t[1]-best)*100./best)"
   ]
  },
  {
   "cell_type": "code",
   "execution_count": 14,
   "metadata": {},
   "outputs": [
    {
     "name": "stdout",
     "output_type": "stream",
     "text": [
      "['41' '46' '42' '43' '44' '48' '47' '50' '52' '51'] 14.9478693608\n",
      "['41' '42' '43' '44' '48' '47' '46' '45' '49' '51'] 14.9789095237\n",
      "['41' '46' '47' '42' '43' '44' '48' '50' '52' '51'] 15.0071454921\n",
      "['41' '45' '46' '42' '43' '47' '48' '50' '52' '51'] 15.0518479546\n",
      "['41' '42' '43' '44' '48' '50' '47' '46' '49' '51'] 15.0992547968\n",
      "['41' '46' '42' '43' '44' '48' '47' '50' '49' '51'] 15.1072433171\n",
      "['41' '46' '42' '43' '47' '48' '50' '52' '49' '51'] 15.1271802326\n"
     ]
    }
   ],
   "source": [
    "for t in top:\n",
    "    print t[0][:,3],t[1]*factor"
   ]
  }
 ],
 "metadata": {
  "kernelspec": {
   "display_name": "Python 3",
   "language": "python",
   "name": "python3"
  },
  "language_info": {
   "codemirror_mode": {
    "name": "ipython",
    "version": 3
   },
   "file_extension": ".py",
   "mimetype": "text/x-python",
   "name": "python",
   "nbconvert_exporter": "python",
   "pygments_lexer": "ipython3",
   "version": "3.7.4"
  }
 },
 "nbformat": 4,
 "nbformat_minor": 2
}
